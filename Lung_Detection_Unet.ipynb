{
 "cells": [
  {
   "cell_type": "code",
   "execution_count": 0,
   "metadata": {
    "colab": {},
    "colab_type": "code",
    "id": "YFkOWe_hNOQp"
   },
   "outputs": [],
   "source": [
    "!pip install -q keras"
   ]
  },
  {
   "cell_type": "code",
   "execution_count": 56,
   "metadata": {
    "colab": {
     "base_uri": "https://localhost:8080/",
     "height": 34
    },
    "colab_type": "code",
    "id": "0Dfub0dhNiNu",
    "outputId": "bab030a1-b7c2-4b47-e9f0-336d3cf36298"
   },
   "outputs": [
    {
     "name": "stdout",
     "output_type": "stream",
     "text": [
      "mkdir: cannot create directory ‘.kaggle’: File exists\n"
     ]
    }
   ],
   "source": [
    "!mkdir .kaggle"
   ]
  },
  {
   "cell_type": "code",
   "execution_count": 0,
   "metadata": {
    "colab": {},
    "colab_type": "code",
    "id": "0JjaQ_MqNmUn"
   },
   "outputs": [],
   "source": [
    "import json\n",
    "\n",
    "token = {\"username\":\"shreyshah2307\",\"key\":\"0a50acf405130015e106547d45678259\"}\n",
    "with open('/content/.kaggle/kaggle.json', 'w') as file:\n",
    "  json.dump(token, file)"
   ]
  },
  {
   "cell_type": "code",
   "execution_count": 0,
   "metadata": {
    "colab": {},
    "colab_type": "code",
    "id": "r6hbFzZANnmm"
   },
   "outputs": [],
   "source": [
    "!chmod 600 /content/.kaggle/kaggle.json"
   ]
  },
  {
   "cell_type": "code",
   "execution_count": 59,
   "metadata": {
    "colab": {
     "base_uri": "https://localhost:8080/",
     "height": 34
    },
    "colab_type": "code",
    "id": "GXp6uUKnNp73",
    "outputId": "9caca149-5a4b-485a-d270-e21f45472a26"
   },
   "outputs": [
    {
     "name": "stdout",
     "output_type": "stream",
     "text": [
      "finding-lungs-in-ct-data.zip: Skipping, found more recently modified local copy (use --force to force download)\n"
     ]
    }
   ],
   "source": [
    "!kaggle datasets download -d kmader/finding-lungs-in-ct-data"
   ]
  },
  {
   "cell_type": "code",
   "execution_count": 0,
   "metadata": {
    "colab": {},
    "colab_type": "code",
    "id": "lvjIggq3Np9x"
   },
   "outputs": [],
   "source": [
    "!cp /content/.kaggle/kaggle.json ~/.kaggle/kaggle.json"
   ]
  },
  {
   "cell_type": "code",
   "execution_count": 61,
   "metadata": {
    "colab": {
     "base_uri": "https://localhost:8080/",
     "height": 34
    },
    "colab_type": "code",
    "id": "VvdggT09Ntx_",
    "outputId": "9e5de3a2-0d53-4b3e-cd50-0e4644af9778"
   },
   "outputs": [
    {
     "name": "stdout",
     "output_type": "stream",
     "text": [
      "finding-lungs-in-ct-data.zip: Skipping, found more recently modified local copy (use --force to force download)\n"
     ]
    }
   ],
   "source": [
    "!kaggle datasets download -d kmader/finding-lungs-in-ct-data"
   ]
  },
  {
   "cell_type": "code",
   "execution_count": 0,
   "metadata": {
    "colab": {},
    "colab_type": "code",
    "id": "Hu0mzPdSN54p"
   },
   "outputs": [],
   "source": [
    "!unzip finding-lungs-in-ct-data.zip"
   ]
  },
  {
   "cell_type": "code",
   "execution_count": 0,
   "metadata": {
    "colab": {},
    "colab_type": "code",
    "id": "vaHEKrEsN8xH"
   },
   "outputs": [],
   "source": [
    "!rm -rf 3d_images"
   ]
  },
  {
   "cell_type": "code",
   "execution_count": 0,
   "metadata": {
    "colab": {},
    "colab_type": "code",
    "id": "l4SzYev4OIV1"
   },
   "outputs": [],
   "source": [
    "!rm lung_stats.csv"
   ]
  },
  {
   "cell_type": "code",
   "execution_count": 1,
   "metadata": {
    "colab": {},
    "colab_type": "code",
    "id": "V2dYYV68Nbp3"
   },
   "outputs": [],
   "source": [
    "import os\n",
    "import numpy as np # linear algebra\n",
    "import pandas as pd # data processing, CSV file I/O (e.g. pd.read_csv)\n",
    "import cv2\n",
    "import matplotlib.pyplot as plt\n",
    "%matplotlib inline\n",
    "from sklearn.model_selection import train_test_split"
   ]
  },
  {
   "cell_type": "code",
   "execution_count": 2,
   "metadata": {
    "colab": {},
    "colab_type": "code",
    "id": "GrW5xE4qOTjc"
   },
   "outputs": [
    {
     "name": "stderr",
     "output_type": "stream",
     "text": [
      "Using TensorFlow backend.\n"
     ]
    }
   ],
   "source": [
    "from keras.models import Model\n",
    "from keras.layers import *\n",
    "from keras.optimizers import Adam\n",
    "from keras.regularizers import l2\n",
    "from keras.preprocessing.image import ImageDataGenerator\n",
    "import keras.backend as K\n",
    "from keras.callbacks import LearningRateScheduler, ModelCheckpoint"
   ]
  },
  {
   "cell_type": "code",
   "execution_count": 3,
   "metadata": {
    "colab": {},
    "colab_type": "code",
    "id": "v61CyJaGOXah"
   },
   "outputs": [],
   "source": [
    "IMAGE_LIB = './finding-lungs-in-ct-data/2d_images/'\n",
    "MASK_LIB = './finding-lungs-in-ct-data/2d_masks/'\n",
    "IMG_HEIGHT, IMG_WIDTH = 32, 32\n",
    "SEED=42\n"
   ]
  },
  {
   "cell_type": "code",
   "execution_count": 4,
   "metadata": {
    "colab": {},
    "colab_type": "code",
    "id": "NvPDTkZfOcOO"
   },
   "outputs": [],
   "source": [
    "all_images = [x for x in sorted(os.listdir(IMAGE_LIB)) if x[-4:] == '.tif']\n",
    "\n",
    "x_data = np.empty((len(all_images), IMG_HEIGHT, IMG_WIDTH), dtype='float32')\n",
    "for i, name in enumerate(all_images):\n",
    "    im = cv2.imread(IMAGE_LIB + name, cv2.IMREAD_UNCHANGED).astype(\"int16\").astype('float32')\n",
    "    im = cv2.resize(im, dsize=(IMG_WIDTH, IMG_HEIGHT), interpolation=cv2.INTER_LANCZOS4)\n",
    "    #im = (im - np.min(im)) / (np.max(im) - np.min(im))\n",
    "    x_data[i] = im\n",
    "\n",
    "y_data = np.empty((len(all_images), IMG_HEIGHT, IMG_WIDTH), dtype='float32')\n",
    "for i, name in enumerate(all_images):\n",
    "    im = cv2.imread(MASK_LIB + name, cv2.IMREAD_UNCHANGED).astype('float32')/255.\n",
    "    im = cv2.resize(im, dsize=(IMG_WIDTH, IMG_HEIGHT), interpolation=cv2.INTER_NEAREST)\n",
    "    y_data[i] = im"
   ]
  },
  {
   "cell_type": "code",
   "execution_count": 69,
   "metadata": {
    "colab": {
     "base_uri": "https://localhost:8080/",
     "height": 234
    },
    "colab_type": "code",
    "id": "reDOX1ugOnQN",
    "outputId": "1a615044-6762-405a-cdac-c40d41152947"
   },
   "outputs": [
    {
     "data": {
      "image/png": "[encoded data removed]",
      "text/plain": [
       "<matplotlib.figure.Figure at 0x7f3e82246be0>"
      ]
     },
     "metadata": {
      "tags": []
     },
     "output_type": "display_data"
    }
   ],
   "source": [
    "fig, ax = plt.subplots(1,2, figsize = (8,4))\n",
    "ax[0].set_xticks([])\n",
    "ax[1].set_xticks([])\n",
    "ax[0].set_yticks([])\n",
    "ax[1].set_yticks([])\n",
    "ax[0].imshow(x_data[0], cmap='gray')\n",
    "ax[1].imshow(y_data[0], cmap='gray')\n",
    "plt.show()"
   ]
  },
  {
   "cell_type": "code",
   "execution_count": 70,
   "metadata": {
    "colab": {
     "base_uri": "https://localhost:8080/",
     "height": 34
    },
    "colab_type": "code",
    "id": "NOM-jZhpRJtk",
    "outputId": "9a5f9a44-cb9d-434c-9ef8-eac52a80b8af"
   },
   "outputs": [
    {
     "data": {
      "text/plain": [
       "(267, 32, 32)"
      ]
     },
     "execution_count": 70,
     "metadata": {
      "tags": []
     },
     "output_type": "execute_result"
    }
   ],
   "source": [
    "x_data.shape"
   ]
  },
  {
   "cell_type": "code",
   "execution_count": 0,
   "metadata": {
    "colab": {},
    "colab_type": "code",
    "id": "SCwRxbEWOpuD"
   },
   "outputs": [],
   "source": [
    "x_data = x_data[:,:,:,np.newaxis]\n",
    "y_data = y_data[:,:,:,np.newaxis]\n",
    "x_train, x_test, y_train, y_test = train_test_split(x_data, y_data, test_size = 0.3)"
   ]
  },
  {
   "cell_type": "code",
   "execution_count": 0,
   "metadata": {
    "colab": {},
    "colab_type": "code",
    "id": "Ol_bgrZJRTFp"
   },
   "outputs": [],
   "source": [
    "def dice_coef(y_true, y_pred):\n",
    "    y_true_f = K.flatten(y_true)\n",
    "    y_pred_f = K.flatten(y_pred)\n",
    "    intersection = K.sum(y_true_f * y_pred_f)\n",
    "    return (2. * intersection + K.epsilon()) / (K.sum(y_true_f) + K.sum(y_pred_f) + K.epsilon())"
   ]
  },
  {
   "cell_type": "code",
   "execution_count": 0,
   "metadata": {
    "colab": {},
    "colab_type": "code",
    "id": "_TqApn7xRydR"
   },
   "outputs": [],
   "source": [
    "input_layer = Input(shape=x_train.shape[1:])\n",
    "c1 = Conv2D(filters=8, kernel_size=(3,3), activation='relu', padding='same')(input_layer)\n",
    "l = MaxPool2D(strides=(2,2))(c1)\n",
    "c2 = Conv2D(filters=16, kernel_size=(3,3), activation='relu', padding='same')(l)\n",
    "l = MaxPool2D(strides=(2,2))(c2)\n",
    "c3 = Conv2D(filters=32, kernel_size=(3,3), activation='relu', padding='same')(l)\n",
    "l = MaxPool2D(strides=(2,2))(c3)\n",
    "c4 = Conv2D(filters=32, kernel_size=(1,1), activation='relu', padding='same')(l)\n",
    "l = concatenate([UpSampling2D(size=(2,2))(c4), c3], axis=-1)\n",
    "l = Conv2D(filters=32, kernel_size=(2,2), activation='relu', padding='same')(l)\n",
    "l = concatenate([UpSampling2D(size=(2,2))(l), c2], axis=-1)\n",
    "l = Conv2D(filters=24, kernel_size=(2,2), activation='relu', padding='same')(l)\n",
    "l = concatenate([UpSampling2D(size=(2,2))(l), c1], axis=-1)\n",
    "l = Conv2D(filters=16, kernel_size=(2,2), activation='relu', padding='same')(l)\n",
    "l = Conv2D(filters=64, kernel_size=(1,1), activation='relu')(l)\n",
    "l = Dropout(0.5)(l)\n",
    "output_layer = Conv2D(filters=1, kernel_size=(1,1), activation='sigmoid')(l)\n",
    "                                                         \n",
    "model = Model(input_layer, output_layer)"
   ]
  },
  {
   "cell_type": "code",
   "execution_count": 74,
   "metadata": {
    "colab": {
     "base_uri": "https://localhost:8080/",
     "height": 867
    },
    "colab_type": "code",
    "id": "kq_mMbE3SynN",
    "outputId": "f4a9a7bd-f5f3-41c6-edad-1c2de884940d"
   },
   "outputs": [
    {
     "name": "stdout",
     "output_type": "stream",
     "text": [
      "__________________________________________________________________________________________________\n",
      "Layer (type)                    Output Shape         Param #     Connected to                     \n",
      "==================================================================================================\n",
      "input_3 (InputLayer)            (None, 32, 32, 1)    0                                            \n",
      "__________________________________________________________________________________________________\n",
      "conv2d_19 (Conv2D)              (None, 32, 32, 8)    80          input_3[0][0]                    \n",
      "__________________________________________________________________________________________________\n",
      "max_pooling2d_7 (MaxPooling2D)  (None, 16, 16, 8)    0           conv2d_19[0][0]                  \n",
      "__________________________________________________________________________________________________\n",
      "conv2d_20 (Conv2D)              (None, 16, 16, 16)   1168        max_pooling2d_7[0][0]            \n",
      "__________________________________________________________________________________________________\n",
      "max_pooling2d_8 (MaxPooling2D)  (None, 8, 8, 16)     0           conv2d_20[0][0]                  \n",
      "__________________________________________________________________________________________________\n",
      "conv2d_21 (Conv2D)              (None, 8, 8, 32)     4640        max_pooling2d_8[0][0]            \n",
      "__________________________________________________________________________________________________\n",
      "max_pooling2d_9 (MaxPooling2D)  (None, 4, 4, 32)     0           conv2d_21[0][0]                  \n",
      "__________________________________________________________________________________________________\n",
      "conv2d_22 (Conv2D)              (None, 4, 4, 32)     1056        max_pooling2d_9[0][0]            \n",
      "__________________________________________________________________________________________________\n",
      "up_sampling2d_7 (UpSampling2D)  (None, 8, 8, 32)     0           conv2d_22[0][0]                  \n",
      "__________________________________________________________________________________________________\n",
      "concatenate_7 (Concatenate)     (None, 8, 8, 64)     0           up_sampling2d_7[0][0]            \n",
      "                                                                 conv2d_21[0][0]                  \n",
      "__________________________________________________________________________________________________\n",
      "conv2d_23 (Conv2D)              (None, 8, 8, 32)     8224        concatenate_7[0][0]              \n",
      "__________________________________________________________________________________________________\n",
      "up_sampling2d_8 (UpSampling2D)  (None, 16, 16, 32)   0           conv2d_23[0][0]                  \n",
      "__________________________________________________________________________________________________\n",
      "concatenate_8 (Concatenate)     (None, 16, 16, 48)   0           up_sampling2d_8[0][0]            \n",
      "                                                                 conv2d_20[0][0]                  \n",
      "__________________________________________________________________________________________________\n",
      "conv2d_24 (Conv2D)              (None, 16, 16, 24)   4632        concatenate_8[0][0]              \n",
      "__________________________________________________________________________________________________\n",
      "up_sampling2d_9 (UpSampling2D)  (None, 32, 32, 24)   0           conv2d_24[0][0]                  \n",
      "__________________________________________________________________________________________________\n",
      "concatenate_9 (Concatenate)     (None, 32, 32, 32)   0           up_sampling2d_9[0][0]            \n",
      "                                                                 conv2d_19[0][0]                  \n",
      "__________________________________________________________________________________________________\n",
      "conv2d_25 (Conv2D)              (None, 32, 32, 16)   2064        concatenate_9[0][0]              \n",
      "__________________________________________________________________________________________________\n",
      "conv2d_26 (Conv2D)              (None, 32, 32, 64)   1088        conv2d_25[0][0]                  \n",
      "__________________________________________________________________________________________________\n",
      "dropout_3 (Dropout)             (None, 32, 32, 64)   0           conv2d_26[0][0]                  \n",
      "__________________________________________________________________________________________________\n",
      "conv2d_27 (Conv2D)              (None, 32, 32, 1)    65          dropout_3[0][0]                  \n",
      "==================================================================================================\n",
      "Total params: 23,017\n",
      "Trainable params: 23,017\n",
      "Non-trainable params: 0\n",
      "__________________________________________________________________________________________________\n"
     ]
    }
   ],
   "source": [
    "model.summary()"
   ]
  },
  {
   "cell_type": "code",
   "execution_count": 0,
   "metadata": {
    "colab": {},
    "colab_type": "code",
    "id": "jISh3rjFSzjC"
   },
   "outputs": [],
   "source": [
    "def my_generator(x_train, y_train, batch_size):\n",
    "    data_generator = ImageDataGenerator(\n",
    "            width_shift_range=0.1,\n",
    "            height_shift_range=0.1,\n",
    "            rotation_range=10,\n",
    "            zoom_range=0.1).flow(x_train, y=None, batch_size=batch_size, seed=SEED)\n",
    "    mask_generator = ImageDataGenerator(\n",
    "            width_shift_range=0.1,\n",
    "            height_shift_range=0.1,\n",
    "            rotation_range=10,\n",
    "            zoom_range=0.1).flow(y_train, y=None, batch_size=batch_size, seed=SEED)\n",
    "    while True:\n",
    "        x_batch = data_generator.next()\n",
    "        y_batch = mask_generator.next()\n",
    "        yield x_batch, y_batch"
   ]
  },
  {
   "cell_type": "code",
   "execution_count": 76,
   "metadata": {
    "colab": {
     "base_uri": "https://localhost:8080/",
     "height": 1118
    },
    "colab_type": "code",
    "id": "v86EYjIkVzA3",
    "outputId": "6cb2816b-9406-40c4-f3ca-462ae0179ef7"
   },
   "outputs": [
    {
     "data": {
      "image/png": "[encoded data removed]",
      "text/plain": [
       "<matplotlib.figure.Figure at 0x7f3e821f2978>"
      ]
     },
     "metadata": {
      "tags": []
     },
     "output_type": "display_data"
    }
   ],
   "source": [
    "image_batch, mask_batch = next(my_generator(x_train, y_train, 8))\n",
    "fix, ax = plt.subplots(8,2, figsize=(8,20))\n",
    "for i in range(8):\n",
    "    ax[i,0].set_xticks([])\n",
    "    ax[i,1].set_xticks([])\n",
    "    ax[i,0].set_yticks([])\n",
    "    ax[i,1].set_yticks([])\n",
    "    ax[i,0].imshow(image_batch[i,:,:,0],cmap='gray')\n",
    "    ax[i,1].imshow(mask_batch[i,:,:,0],cmap='gray')\n",
    "plt.show()"
   ]
  },
  {
   "cell_type": "code",
   "execution_count": 0,
   "metadata": {
    "colab": {},
    "colab_type": "code",
    "id": "S510pVo7WNv0"
   },
   "outputs": [],
   "source": [
    "model.compile(optimizer=Adam(2e-4), loss='binary_crossentropy', metrics=[dice_coef])"
   ]
  },
  {
   "cell_type": "code",
   "execution_count": 0,
   "metadata": {
    "colab": {},
    "colab_type": "code",
    "id": "sIzBw69MWuBG"
   },
   "outputs": [],
   "source": [
    "weight_saver = ModelCheckpoint('lung.h5', monitor='val_dice_coef', save_weights_only=True)\n",
    "annealer = LearningRateScheduler(lambda x: 1e-3 * 0.8 ** x)"
   ]
  },
  {
   "cell_type": "code",
   "execution_count": 0,
   "metadata": {
    "colab": {
     "base_uri": "https://localhost:8080/",
     "height": 663
    },
    "colab_type": "code",
    "id": "T7N3VO25W1Xx",
    "outputId": "acc2ea75-bc9c-4762-93dd-56af6b122991"
   },
   "outputs": [
    {
     "name": "stdout",
     "output_type": "stream",
     "text": [
      "Epoch 1/20\n",
      "200/200 [==============================] - 11s 54ms/step - loss: 3.9414 - dice_coef: 0.0033 - val_loss: 3.6154 - val_dice_coef: 6.7672e-11\n",
      "Epoch 2/20\n",
      "200/200 [==============================] - 10s 48ms/step - loss: 3.8784 - dice_coef: 4.6872e-06 - val_loss: 3.6154 - val_dice_coef: 6.7672e-11\n",
      "Epoch 3/20\n",
      "200/200 [==============================] - 10s 48ms/step - loss: 3.8545 - dice_coef: 3.8233e-06 - val_loss: 3.6154 - val_dice_coef: 2.3428e-10\n",
      "Epoch 4/20\n",
      "200/200 [==============================] - 10s 48ms/step - loss: 3.8839 - dice_coef: 4.9699e-06 - val_loss: 3.6154 - val_dice_coef: 6.7672e-11\n",
      "Epoch 5/20\n",
      "200/200 [==============================] - 10s 48ms/step - loss: 3.9138 - dice_coef: 1.0330e-05 - val_loss: 3.6154 - val_dice_coef: 6.7672e-11\n",
      "Epoch 6/20\n",
      "200/200 [==============================] - 10s 49ms/step - loss: 3.8733 - dice_coef: 1.4461e-07 - val_loss: 3.6154 - val_dice_coef: 2.3428e-10\n",
      "Epoch 7/20\n",
      "200/200 [==============================] - 10s 49ms/step - loss: 3.8786 - dice_coef: 1.5457e-05 - val_loss: 3.6154 - val_dice_coef: 6.7672e-11\n",
      "Epoch 8/20\n",
      "200/200 [==============================] - 10s 48ms/step - loss: 3.8670 - dice_coef: 7.7171e-06 - val_loss: 3.6154 - val_dice_coef: 6.7672e-11\n",
      "Epoch 9/20\n",
      "200/200 [==============================] - 10s 48ms/step - loss: 3.8880 - dice_coef: 1.4966e-06 - val_loss: 3.6154 - val_dice_coef: 2.3428e-10\n",
      "Epoch 10/20\n",
      "200/200 [==============================] - 10s 48ms/step - loss: 3.8920 - dice_coef: 9.1469e-06 - val_loss: 3.6154 - val_dice_coef: 6.7672e-11\n",
      "Epoch 11/20\n",
      "200/200 [==============================] - 9s 47ms/step - loss: 3.8934 - dice_coef: 1.0392e-06 - val_loss: 3.6154 - val_dice_coef: 6.7672e-11\n",
      "Epoch 12/20\n",
      "200/200 [==============================] - 10s 48ms/step - loss: 3.8988 - dice_coef: 6.7704e-08 - val_loss: 3.6154 - val_dice_coef: 2.3428e-10\n",
      "Epoch 13/20\n",
      "200/200 [==============================] - 10s 48ms/step - loss: 3.8798 - dice_coef: 1.1681e-10 - val_loss: 3.6154 - val_dice_coef: 6.7672e-11\n",
      "Epoch 14/20\n",
      "200/200 [==============================] - 10s 48ms/step - loss: 3.9014 - dice_coef: 7.2944e-06 - val_loss: 3.6154 - val_dice_coef: 6.7672e-11\n",
      "Epoch 15/20\n",
      "200/200 [==============================] - 10s 49ms/step - loss: 3.8949 - dice_coef: 5.8282e-11 - val_loss: 3.6154 - val_dice_coef: 2.3428e-10\n",
      "Epoch 16/20\n",
      "200/200 [==============================] - 10s 50ms/step - loss: 3.8957 - dice_coef: 5.4389e-06 - val_loss: 3.6154 - val_dice_coef: 6.7672e-11\n",
      "Epoch 17/20\n",
      "200/200 [==============================] - 10s 50ms/step - loss: 3.8852 - dice_coef: 2.8601e-06 - val_loss: 3.6154 - val_dice_coef: 6.7672e-11\n",
      "Epoch 18/20\n",
      "200/200 [==============================] - 10s 48ms/step - loss: 3.9060 - dice_coef: 1.0796e-06 - val_loss: 3.6154 - val_dice_coef: 2.3428e-10\n",
      "Epoch 19/20\n",
      " 12/200 [>.............................] - ETA: 8s - loss: 3.8899 - dice_coef: 5.1053e-11"
     ]
    }
   ],
   "source": [
    "hist = model.fit_generator(my_generator(x_train, y_train, 8),\n",
    "                           steps_per_epoch = 200,\n",
    "                           validation_data = (x_test, y_test),\n",
    "                           epochs=20, verbose=1,\n",
    "                           callbacks = [weight_saver, annealer])"
   ]
  },
  {
   "cell_type": "code",
   "execution_count": 53,
   "metadata": {
    "colab": {
     "base_uri": "https://localhost:8080/",
     "height": 513
    },
    "colab_type": "code",
    "id": "EJ9pEflgXQ03",
    "outputId": "11961a43-68c2-4260-89c1-f01b89a698e8"
   },
   "outputs": [
    {
     "data": {
      "image/png": "[encoded data removed]",
      "text/plain": [
       "<matplotlib.figure.Figure at 0x7f3e820d5eb8>"
      ]
     },
     "metadata": {
      "tags": []
     },
     "output_type": "display_data"
    },
    {
     "data": {
      "image/png": "[encoded data removed]",
      "text/plain": [
       "<matplotlib.figure.Figure at 0x7f3e8205f6a0>"
      ]
     },
     "metadata": {
      "tags": []
     },
     "output_type": "display_data"
    }
   ],
   "source": [
    "plt.plot(hist.history['loss'], color='b')\n",
    "plt.plot(hist.history['val_loss'], color='r')\n",
    "plt.show()\n",
    "plt.plot(hist.history['dice_coef'], color='b')\n",
    "plt.plot(hist.history['val_dice_coef'], color='r')\n",
    "plt.show()"
   ]
  },
  {
   "cell_type": "code",
   "execution_count": 54,
   "metadata": {
    "colab": {
     "base_uri": "https://localhost:8080/",
     "height": 245
    },
    "colab_type": "code",
    "id": "GNnuXh5yXYQR",
    "outputId": "c22207e7-088a-461c-a723-3ae44204c11a"
   },
   "outputs": [
    {
     "data": {
      "text/plain": [
       "<matplotlib.image.AxesImage at 0x7f3e820e84e0>"
      ]
     },
     "execution_count": 54,
     "metadata": {
      "tags": []
     },
     "output_type": "execute_result"
    },
    {
     "data": {
      "image/png": "[encoded data removed]",
      "text/plain": [
       "<matplotlib.figure.Figure at 0x7f3e81fd92e8>"
      ]
     },
     "metadata": {
      "tags": []
     },
     "output_type": "display_data"
    }
   ],
   "source": [
    "y_hat = model.predict(x_test)\n",
    "fig, ax = plt.subplots(1,3,figsize=(12,6))\n",
    "ax[0].set_xticks([])\n",
    "ax[0].set_yticks([])\n",
    "ax[1].set_xticks([])\n",
    "ax[1].set_yticks([])\n",
    "ax[2].set_xticks([])\n",
    "ax[2].set_yticks([])\n",
    "ax[0].imshow(x_test[0,:,:,0], cmap='gray')\n",
    "ax[1].imshow(y_test[0,:,:,0], cmap='gray')\n",
    "ax[2].imshow(y_hat[0,:,:,0], cmap='gray')"
   ]
  },
  {
   "cell_type": "code",
   "execution_count": 0,
   "metadata": {
    "colab": {},
    "colab_type": "code",
    "id": "ukraS2HCXz1R"
   },
   "outputs": [],
   "source": []
  }
 ],
 "metadata": {
  "colab": {
   "collapsed_sections": [],
   "name": "Lung_Detection_Unet.ipynb",
   "provenance": [],
   "version": "0.3.2"
  },
  "kernelspec": {
   "display_name": "Python 3",
   "language": "python",
   "name": "python3"
  },
  "language_info": {
   "codemirror_mode": {
    "name": "ipython",
    "version": 3
   },
   "file_extension": ".py",
   "mimetype": "text/x-python",
   "name": "python",
   "nbconvert_exporter": "python",
   "pygments_lexer": "ipython3",
   "version": "3.5.4"
  }
 },
 "nbformat": 4,
 "nbformat_minor": 1
}
